{
 "cells": [
  {
   "cell_type": "code",
   "execution_count": 1,
   "id": "4295b56b",
   "metadata": {
    "_cell_guid": "b1076dfc-b9ad-4769-8c92-a6c4dae69d19",
    "_uuid": "8f2839f25d086af736a60e9eeb907d3b93b6e0e5",
    "execution": {
     "iopub.execute_input": "2023-01-21T08:36:32.992380Z",
     "iopub.status.busy": "2023-01-21T08:36:32.991625Z",
     "iopub.status.idle": "2023-01-21T08:36:33.009440Z",
     "shell.execute_reply": "2023-01-21T08:36:33.008579Z"
    },
    "papermill": {
     "duration": 0.031911,
     "end_time": "2023-01-21T08:36:33.012214",
     "exception": false,
     "start_time": "2023-01-21T08:36:32.980303",
     "status": "completed"
    },
    "tags": []
   },
   "outputs": [
    {
     "name": "stdout",
     "output_type": "stream",
     "text": [
      "/kaggle/input/heart-attack-analysis-prediction-dataset/o2Saturation.csv\n",
      "/kaggle/input/heart-attack-analysis-prediction-dataset/heart.csv\n"
     ]
    }
   ],
   "source": [
    "# This Python 3 environment comes with many helpful analytics libraries installed\n",
    "# It is defined by the kaggle/python Docker image: https://github.com/kaggle/docker-python\n",
    "# For example, here's several helpful packages to load\n",
    "\n",
    "import numpy as np # linear algebra\n",
    "import pandas as pd # data processing, CSV file I/O (e.g. pd.read_csv)\n",
    "\n",
    "# Input data files are available in the read-only \"../input/\" directory\n",
    "# For example, running this (by clicking run or pressing Shift+Enter) will list all files under the input directory\n",
    "\n",
    "import os\n",
    "for dirname, _, filenames in os.walk('/kaggle/input'):\n",
    "    for filename in filenames:\n",
    "        print(os.path.join(dirname, filename))\n",
    "\n",
    "# You can write up to 20GB to the current directory (/kaggle/working/) that gets preserved as output when you create a version using \"Save & Run All\" \n",
    "# You can also write temporary files to /kaggle/temp/, but they won't be saved outside of the current session"
   ]
  },
  {
   "cell_type": "code",
   "execution_count": 2,
   "id": "6a7ac8f6",
   "metadata": {
    "execution": {
     "iopub.execute_input": "2023-01-21T08:36:33.030577Z",
     "iopub.status.busy": "2023-01-21T08:36:33.029424Z",
     "iopub.status.idle": "2023-01-21T08:36:34.230342Z",
     "shell.execute_reply": "2023-01-21T08:36:34.229036Z"
    },
    "papermill": {
     "duration": 1.212682,
     "end_time": "2023-01-21T08:36:34.232982",
     "exception": false,
     "start_time": "2023-01-21T08:36:33.020300",
     "status": "completed"
    },
    "tags": []
   },
   "outputs": [],
   "source": [
    "from sklearn.model_selection import train_test_split\n",
    "from sklearn.linear_model import LogisticRegression\n",
    "from sklearn.metrics import accuracy_score"
   ]
  },
  {
   "cell_type": "markdown",
   "id": "e2d86e8f",
   "metadata": {
    "papermill": {
     "duration": 0.00787,
     "end_time": "2023-01-21T08:36:34.248857",
     "exception": false,
     "start_time": "2023-01-21T08:36:34.240987",
     "status": "completed"
    },
    "tags": []
   },
   "source": [
    "# Data Exploration"
   ]
  },
  {
   "cell_type": "code",
   "execution_count": 3,
   "id": "c049a75e",
   "metadata": {
    "execution": {
     "iopub.execute_input": "2023-01-21T08:36:34.266857Z",
     "iopub.status.busy": "2023-01-21T08:36:34.266148Z",
     "iopub.status.idle": "2023-01-21T08:36:34.302801Z",
     "shell.execute_reply": "2023-01-21T08:36:34.301590Z"
    },
    "papermill": {
     "duration": 0.048328,
     "end_time": "2023-01-21T08:36:34.305185",
     "exception": false,
     "start_time": "2023-01-21T08:36:34.256857",
     "status": "completed"
    },
    "tags": []
   },
   "outputs": [
    {
     "data": {
      "text/html": [
       "<div>\n",
       "<style scoped>\n",
       "    .dataframe tbody tr th:only-of-type {\n",
       "        vertical-align: middle;\n",
       "    }\n",
       "\n",
       "    .dataframe tbody tr th {\n",
       "        vertical-align: top;\n",
       "    }\n",
       "\n",
       "    .dataframe thead th {\n",
       "        text-align: right;\n",
       "    }\n",
       "</style>\n",
       "<table border=\"1\" class=\"dataframe\">\n",
       "  <thead>\n",
       "    <tr style=\"text-align: right;\">\n",
       "      <th></th>\n",
       "      <th>age</th>\n",
       "      <th>sex</th>\n",
       "      <th>cp</th>\n",
       "      <th>trtbps</th>\n",
       "      <th>chol</th>\n",
       "      <th>fbs</th>\n",
       "      <th>restecg</th>\n",
       "      <th>thalachh</th>\n",
       "      <th>exng</th>\n",
       "      <th>oldpeak</th>\n",
       "      <th>slp</th>\n",
       "      <th>caa</th>\n",
       "      <th>thall</th>\n",
       "      <th>output</th>\n",
       "    </tr>\n",
       "  </thead>\n",
       "  <tbody>\n",
       "    <tr>\n",
       "      <th>0</th>\n",
       "      <td>63</td>\n",
       "      <td>1</td>\n",
       "      <td>3</td>\n",
       "      <td>145</td>\n",
       "      <td>233</td>\n",
       "      <td>1</td>\n",
       "      <td>0</td>\n",
       "      <td>150</td>\n",
       "      <td>0</td>\n",
       "      <td>2.3</td>\n",
       "      <td>0</td>\n",
       "      <td>0</td>\n",
       "      <td>1</td>\n",
       "      <td>1</td>\n",
       "    </tr>\n",
       "    <tr>\n",
       "      <th>1</th>\n",
       "      <td>37</td>\n",
       "      <td>1</td>\n",
       "      <td>2</td>\n",
       "      <td>130</td>\n",
       "      <td>250</td>\n",
       "      <td>0</td>\n",
       "      <td>1</td>\n",
       "      <td>187</td>\n",
       "      <td>0</td>\n",
       "      <td>3.5</td>\n",
       "      <td>0</td>\n",
       "      <td>0</td>\n",
       "      <td>2</td>\n",
       "      <td>1</td>\n",
       "    </tr>\n",
       "    <tr>\n",
       "      <th>2</th>\n",
       "      <td>41</td>\n",
       "      <td>0</td>\n",
       "      <td>1</td>\n",
       "      <td>130</td>\n",
       "      <td>204</td>\n",
       "      <td>0</td>\n",
       "      <td>0</td>\n",
       "      <td>172</td>\n",
       "      <td>0</td>\n",
       "      <td>1.4</td>\n",
       "      <td>2</td>\n",
       "      <td>0</td>\n",
       "      <td>2</td>\n",
       "      <td>1</td>\n",
       "    </tr>\n",
       "    <tr>\n",
       "      <th>3</th>\n",
       "      <td>56</td>\n",
       "      <td>1</td>\n",
       "      <td>1</td>\n",
       "      <td>120</td>\n",
       "      <td>236</td>\n",
       "      <td>0</td>\n",
       "      <td>1</td>\n",
       "      <td>178</td>\n",
       "      <td>0</td>\n",
       "      <td>0.8</td>\n",
       "      <td>2</td>\n",
       "      <td>0</td>\n",
       "      <td>2</td>\n",
       "      <td>1</td>\n",
       "    </tr>\n",
       "    <tr>\n",
       "      <th>4</th>\n",
       "      <td>57</td>\n",
       "      <td>0</td>\n",
       "      <td>0</td>\n",
       "      <td>120</td>\n",
       "      <td>354</td>\n",
       "      <td>0</td>\n",
       "      <td>1</td>\n",
       "      <td>163</td>\n",
       "      <td>1</td>\n",
       "      <td>0.6</td>\n",
       "      <td>2</td>\n",
       "      <td>0</td>\n",
       "      <td>2</td>\n",
       "      <td>1</td>\n",
       "    </tr>\n",
       "  </tbody>\n",
       "</table>\n",
       "</div>"
      ],
      "text/plain": [
       "   age  sex  cp  trtbps  chol  fbs  restecg  thalachh  exng  oldpeak  slp  \\\n",
       "0   63    1   3     145   233    1        0       150     0      2.3    0   \n",
       "1   37    1   2     130   250    0        1       187     0      3.5    0   \n",
       "2   41    0   1     130   204    0        0       172     0      1.4    2   \n",
       "3   56    1   1     120   236    0        1       178     0      0.8    2   \n",
       "4   57    0   0     120   354    0        1       163     1      0.6    2   \n",
       "\n",
       "   caa  thall  output  \n",
       "0    0      1       1  \n",
       "1    0      2       1  \n",
       "2    0      2       1  \n",
       "3    0      2       1  \n",
       "4    0      2       1  "
      ]
     },
     "execution_count": 3,
     "metadata": {},
     "output_type": "execute_result"
    }
   ],
   "source": [
    "data= pd.read_csv(\"/kaggle/input/heart-attack-analysis-prediction-dataset/heart.csv\")\n",
    "data.head()"
   ]
  },
  {
   "cell_type": "code",
   "execution_count": 4,
   "id": "39520d2f",
   "metadata": {
    "execution": {
     "iopub.execute_input": "2023-01-21T08:36:34.324694Z",
     "iopub.status.busy": "2023-01-21T08:36:34.323817Z",
     "iopub.status.idle": "2023-01-21T08:36:34.331090Z",
     "shell.execute_reply": "2023-01-21T08:36:34.330041Z"
    },
    "papermill": {
     "duration": 0.018773,
     "end_time": "2023-01-21T08:36:34.333222",
     "exception": false,
     "start_time": "2023-01-21T08:36:34.314449",
     "status": "completed"
    },
    "tags": []
   },
   "outputs": [
    {
     "data": {
      "text/plain": [
       "(303, 14)"
      ]
     },
     "execution_count": 4,
     "metadata": {},
     "output_type": "execute_result"
    }
   ],
   "source": [
    "data.shape"
   ]
  },
  {
   "cell_type": "code",
   "execution_count": 5,
   "id": "8a9e5909",
   "metadata": {
    "execution": {
     "iopub.execute_input": "2023-01-21T08:36:34.353642Z",
     "iopub.status.busy": "2023-01-21T08:36:34.352520Z",
     "iopub.status.idle": "2023-01-21T08:36:34.416117Z",
     "shell.execute_reply": "2023-01-21T08:36:34.415190Z"
    },
    "papermill": {
     "duration": 0.075273,
     "end_time": "2023-01-21T08:36:34.418262",
     "exception": false,
     "start_time": "2023-01-21T08:36:34.342989",
     "status": "completed"
    },
    "tags": []
   },
   "outputs": [
    {
     "data": {
      "text/html": [
       "<div>\n",
       "<style scoped>\n",
       "    .dataframe tbody tr th:only-of-type {\n",
       "        vertical-align: middle;\n",
       "    }\n",
       "\n",
       "    .dataframe tbody tr th {\n",
       "        vertical-align: top;\n",
       "    }\n",
       "\n",
       "    .dataframe thead th {\n",
       "        text-align: right;\n",
       "    }\n",
       "</style>\n",
       "<table border=\"1\" class=\"dataframe\">\n",
       "  <thead>\n",
       "    <tr style=\"text-align: right;\">\n",
       "      <th></th>\n",
       "      <th>age</th>\n",
       "      <th>sex</th>\n",
       "      <th>cp</th>\n",
       "      <th>trtbps</th>\n",
       "      <th>chol</th>\n",
       "      <th>fbs</th>\n",
       "      <th>restecg</th>\n",
       "      <th>thalachh</th>\n",
       "      <th>exng</th>\n",
       "      <th>oldpeak</th>\n",
       "      <th>slp</th>\n",
       "      <th>caa</th>\n",
       "      <th>thall</th>\n",
       "      <th>output</th>\n",
       "    </tr>\n",
       "  </thead>\n",
       "  <tbody>\n",
       "    <tr>\n",
       "      <th>count</th>\n",
       "      <td>303.000000</td>\n",
       "      <td>303.000000</td>\n",
       "      <td>303.000000</td>\n",
       "      <td>303.000000</td>\n",
       "      <td>303.000000</td>\n",
       "      <td>303.000000</td>\n",
       "      <td>303.000000</td>\n",
       "      <td>303.000000</td>\n",
       "      <td>303.000000</td>\n",
       "      <td>303.000000</td>\n",
       "      <td>303.000000</td>\n",
       "      <td>303.000000</td>\n",
       "      <td>303.000000</td>\n",
       "      <td>303.000000</td>\n",
       "    </tr>\n",
       "    <tr>\n",
       "      <th>mean</th>\n",
       "      <td>54.366337</td>\n",
       "      <td>0.683168</td>\n",
       "      <td>0.966997</td>\n",
       "      <td>131.623762</td>\n",
       "      <td>246.264026</td>\n",
       "      <td>0.148515</td>\n",
       "      <td>0.528053</td>\n",
       "      <td>149.646865</td>\n",
       "      <td>0.326733</td>\n",
       "      <td>1.039604</td>\n",
       "      <td>1.399340</td>\n",
       "      <td>0.729373</td>\n",
       "      <td>2.313531</td>\n",
       "      <td>0.544554</td>\n",
       "    </tr>\n",
       "    <tr>\n",
       "      <th>std</th>\n",
       "      <td>9.082101</td>\n",
       "      <td>0.466011</td>\n",
       "      <td>1.032052</td>\n",
       "      <td>17.538143</td>\n",
       "      <td>51.830751</td>\n",
       "      <td>0.356198</td>\n",
       "      <td>0.525860</td>\n",
       "      <td>22.905161</td>\n",
       "      <td>0.469794</td>\n",
       "      <td>1.161075</td>\n",
       "      <td>0.616226</td>\n",
       "      <td>1.022606</td>\n",
       "      <td>0.612277</td>\n",
       "      <td>0.498835</td>\n",
       "    </tr>\n",
       "    <tr>\n",
       "      <th>min</th>\n",
       "      <td>29.000000</td>\n",
       "      <td>0.000000</td>\n",
       "      <td>0.000000</td>\n",
       "      <td>94.000000</td>\n",
       "      <td>126.000000</td>\n",
       "      <td>0.000000</td>\n",
       "      <td>0.000000</td>\n",
       "      <td>71.000000</td>\n",
       "      <td>0.000000</td>\n",
       "      <td>0.000000</td>\n",
       "      <td>0.000000</td>\n",
       "      <td>0.000000</td>\n",
       "      <td>0.000000</td>\n",
       "      <td>0.000000</td>\n",
       "    </tr>\n",
       "    <tr>\n",
       "      <th>25%</th>\n",
       "      <td>47.500000</td>\n",
       "      <td>0.000000</td>\n",
       "      <td>0.000000</td>\n",
       "      <td>120.000000</td>\n",
       "      <td>211.000000</td>\n",
       "      <td>0.000000</td>\n",
       "      <td>0.000000</td>\n",
       "      <td>133.500000</td>\n",
       "      <td>0.000000</td>\n",
       "      <td>0.000000</td>\n",
       "      <td>1.000000</td>\n",
       "      <td>0.000000</td>\n",
       "      <td>2.000000</td>\n",
       "      <td>0.000000</td>\n",
       "    </tr>\n",
       "    <tr>\n",
       "      <th>50%</th>\n",
       "      <td>55.000000</td>\n",
       "      <td>1.000000</td>\n",
       "      <td>1.000000</td>\n",
       "      <td>130.000000</td>\n",
       "      <td>240.000000</td>\n",
       "      <td>0.000000</td>\n",
       "      <td>1.000000</td>\n",
       "      <td>153.000000</td>\n",
       "      <td>0.000000</td>\n",
       "      <td>0.800000</td>\n",
       "      <td>1.000000</td>\n",
       "      <td>0.000000</td>\n",
       "      <td>2.000000</td>\n",
       "      <td>1.000000</td>\n",
       "    </tr>\n",
       "    <tr>\n",
       "      <th>75%</th>\n",
       "      <td>61.000000</td>\n",
       "      <td>1.000000</td>\n",
       "      <td>2.000000</td>\n",
       "      <td>140.000000</td>\n",
       "      <td>274.500000</td>\n",
       "      <td>0.000000</td>\n",
       "      <td>1.000000</td>\n",
       "      <td>166.000000</td>\n",
       "      <td>1.000000</td>\n",
       "      <td>1.600000</td>\n",
       "      <td>2.000000</td>\n",
       "      <td>1.000000</td>\n",
       "      <td>3.000000</td>\n",
       "      <td>1.000000</td>\n",
       "    </tr>\n",
       "    <tr>\n",
       "      <th>max</th>\n",
       "      <td>77.000000</td>\n",
       "      <td>1.000000</td>\n",
       "      <td>3.000000</td>\n",
       "      <td>200.000000</td>\n",
       "      <td>564.000000</td>\n",
       "      <td>1.000000</td>\n",
       "      <td>2.000000</td>\n",
       "      <td>202.000000</td>\n",
       "      <td>1.000000</td>\n",
       "      <td>6.200000</td>\n",
       "      <td>2.000000</td>\n",
       "      <td>4.000000</td>\n",
       "      <td>3.000000</td>\n",
       "      <td>1.000000</td>\n",
       "    </tr>\n",
       "  </tbody>\n",
       "</table>\n",
       "</div>"
      ],
      "text/plain": [
       "              age         sex          cp      trtbps        chol         fbs  \\\n",
       "count  303.000000  303.000000  303.000000  303.000000  303.000000  303.000000   \n",
       "mean    54.366337    0.683168    0.966997  131.623762  246.264026    0.148515   \n",
       "std      9.082101    0.466011    1.032052   17.538143   51.830751    0.356198   \n",
       "min     29.000000    0.000000    0.000000   94.000000  126.000000    0.000000   \n",
       "25%     47.500000    0.000000    0.000000  120.000000  211.000000    0.000000   \n",
       "50%     55.000000    1.000000    1.000000  130.000000  240.000000    0.000000   \n",
       "75%     61.000000    1.000000    2.000000  140.000000  274.500000    0.000000   \n",
       "max     77.000000    1.000000    3.000000  200.000000  564.000000    1.000000   \n",
       "\n",
       "          restecg    thalachh        exng     oldpeak         slp         caa  \\\n",
       "count  303.000000  303.000000  303.000000  303.000000  303.000000  303.000000   \n",
       "mean     0.528053  149.646865    0.326733    1.039604    1.399340    0.729373   \n",
       "std      0.525860   22.905161    0.469794    1.161075    0.616226    1.022606   \n",
       "min      0.000000   71.000000    0.000000    0.000000    0.000000    0.000000   \n",
       "25%      0.000000  133.500000    0.000000    0.000000    1.000000    0.000000   \n",
       "50%      1.000000  153.000000    0.000000    0.800000    1.000000    0.000000   \n",
       "75%      1.000000  166.000000    1.000000    1.600000    2.000000    1.000000   \n",
       "max      2.000000  202.000000    1.000000    6.200000    2.000000    4.000000   \n",
       "\n",
       "            thall      output  \n",
       "count  303.000000  303.000000  \n",
       "mean     2.313531    0.544554  \n",
       "std      0.612277    0.498835  \n",
       "min      0.000000    0.000000  \n",
       "25%      2.000000    0.000000  \n",
       "50%      2.000000    1.000000  \n",
       "75%      3.000000    1.000000  \n",
       "max      3.000000    1.000000  "
      ]
     },
     "execution_count": 5,
     "metadata": {},
     "output_type": "execute_result"
    }
   ],
   "source": [
    "data.describe()"
   ]
  },
  {
   "cell_type": "code",
   "execution_count": 6,
   "id": "e8e6e06c",
   "metadata": {
    "execution": {
     "iopub.execute_input": "2023-01-21T08:36:34.437588Z",
     "iopub.status.busy": "2023-01-21T08:36:34.436909Z",
     "iopub.status.idle": "2023-01-21T08:36:34.444562Z",
     "shell.execute_reply": "2023-01-21T08:36:34.443737Z"
    },
    "papermill": {
     "duration": 0.019836,
     "end_time": "2023-01-21T08:36:34.446776",
     "exception": false,
     "start_time": "2023-01-21T08:36:34.426940",
     "status": "completed"
    },
    "tags": []
   },
   "outputs": [
    {
     "data": {
      "text/plain": [
       "1    165\n",
       "0    138\n",
       "Name: output, dtype: int64"
      ]
     },
     "execution_count": 6,
     "metadata": {},
     "output_type": "execute_result"
    }
   ],
   "source": [
    "data['output'].value_counts()"
   ]
  },
  {
   "cell_type": "code",
   "execution_count": 7,
   "id": "d89cfba6",
   "metadata": {
    "execution": {
     "iopub.execute_input": "2023-01-21T08:36:34.466630Z",
     "iopub.status.busy": "2023-01-21T08:36:34.465780Z",
     "iopub.status.idle": "2023-01-21T08:36:34.483066Z",
     "shell.execute_reply": "2023-01-21T08:36:34.481569Z"
    },
    "papermill": {
     "duration": 0.030674,
     "end_time": "2023-01-21T08:36:34.486298",
     "exception": false,
     "start_time": "2023-01-21T08:36:34.455624",
     "status": "completed"
    },
    "tags": []
   },
   "outputs": [
    {
     "name": "stdout",
     "output_type": "stream",
     "text": [
      "<class 'pandas.core.frame.DataFrame'>\n",
      "RangeIndex: 303 entries, 0 to 302\n",
      "Data columns (total 14 columns):\n",
      " #   Column    Non-Null Count  Dtype  \n",
      "---  ------    --------------  -----  \n",
      " 0   age       303 non-null    int64  \n",
      " 1   sex       303 non-null    int64  \n",
      " 2   cp        303 non-null    int64  \n",
      " 3   trtbps    303 non-null    int64  \n",
      " 4   chol      303 non-null    int64  \n",
      " 5   fbs       303 non-null    int64  \n",
      " 6   restecg   303 non-null    int64  \n",
      " 7   thalachh  303 non-null    int64  \n",
      " 8   exng      303 non-null    int64  \n",
      " 9   oldpeak   303 non-null    float64\n",
      " 10  slp       303 non-null    int64  \n",
      " 11  caa       303 non-null    int64  \n",
      " 12  thall     303 non-null    int64  \n",
      " 13  output    303 non-null    int64  \n",
      "dtypes: float64(1), int64(13)\n",
      "memory usage: 33.3 KB\n"
     ]
    }
   ],
   "source": [
    "data.info()"
   ]
  },
  {
   "cell_type": "code",
   "execution_count": 8,
   "id": "6272274a",
   "metadata": {
    "execution": {
     "iopub.execute_input": "2023-01-21T08:36:34.506624Z",
     "iopub.status.busy": "2023-01-21T08:36:34.505604Z",
     "iopub.status.idle": "2023-01-21T08:36:34.515281Z",
     "shell.execute_reply": "2023-01-21T08:36:34.514020Z"
    },
    "papermill": {
     "duration": 0.022156,
     "end_time": "2023-01-21T08:36:34.517658",
     "exception": false,
     "start_time": "2023-01-21T08:36:34.495502",
     "status": "completed"
    },
    "tags": []
   },
   "outputs": [],
   "source": [
    "data = data.astype({'oldpeak':'int64'})"
   ]
  },
  {
   "cell_type": "code",
   "execution_count": 9,
   "id": "9c544159",
   "metadata": {
    "execution": {
     "iopub.execute_input": "2023-01-21T08:36:34.542244Z",
     "iopub.status.busy": "2023-01-21T08:36:34.540860Z",
     "iopub.status.idle": "2023-01-21T08:36:34.552365Z",
     "shell.execute_reply": "2023-01-21T08:36:34.551118Z"
    },
    "papermill": {
     "duration": 0.026018,
     "end_time": "2023-01-21T08:36:34.555424",
     "exception": false,
     "start_time": "2023-01-21T08:36:34.529406",
     "status": "completed"
    },
    "tags": []
   },
   "outputs": [
    {
     "data": {
      "text/plain": [
       "array([2, 3, 1, 0, 4, 6, 5])"
      ]
     },
     "execution_count": 9,
     "metadata": {},
     "output_type": "execute_result"
    }
   ],
   "source": [
    "data['oldpeak'].unique()"
   ]
  },
  {
   "cell_type": "markdown",
   "id": "95354376",
   "metadata": {
    "papermill": {
     "duration": 0.009626,
     "end_time": "2023-01-21T08:36:34.574223",
     "exception": false,
     "start_time": "2023-01-21T08:36:34.564597",
     "status": "completed"
    },
    "tags": []
   },
   "source": [
    "# Visualization "
   ]
  },
  {
   "cell_type": "code",
   "execution_count": 10,
   "id": "c46f8367",
   "metadata": {
    "execution": {
     "iopub.execute_input": "2023-01-21T08:36:34.598314Z",
     "iopub.status.busy": "2023-01-21T08:36:34.597934Z",
     "iopub.status.idle": "2023-01-21T08:36:36.211011Z",
     "shell.execute_reply": "2023-01-21T08:36:36.209760Z"
    },
    "papermill": {
     "duration": 1.626251,
     "end_time": "2023-01-21T08:36:36.213693",
     "exception": false,
     "start_time": "2023-01-21T08:36:34.587442",
     "status": "completed"
    },
    "tags": []
   },
   "outputs": [
    {
     "data": {
      "text/plain": [
       "Text(0.5, 0.98, 'resting electrocardiographic results for men and women in different ages')"
      ]
     },
     "execution_count": 10,
     "metadata": {},
     "output_type": "execute_result"
    },
    {
     "data": {
      "image/png": "[encoded data removed]",
      "text/plain": [
       "<Figure size 648x432 with 6 Axes>"
      ]
     },
     "metadata": {
      "needs_background": "light"
     },
     "output_type": "display_data"
    }
   ],
   "source": [
    "import seaborn as sns\n",
    "rel=sns.displot(\n",
    "    data, x=\"age\", col=\"restecg\", row=\"sex\",\n",
    "    binwidth=3, height=3, facet_kws=dict(margin_titles=True),\n",
    ")\n",
    "rel.fig.subplots_adjust(top=.9)\n",
    "rel.fig.suptitle('resting electrocardiographic results for men and women in different ages')"
   ]
  },
  {
   "cell_type": "code",
   "execution_count": 11,
   "id": "8cb4ae15",
   "metadata": {
    "execution": {
     "iopub.execute_input": "2023-01-21T08:36:36.234090Z",
     "iopub.status.busy": "2023-01-21T08:36:36.233697Z",
     "iopub.status.idle": "2023-01-21T08:36:36.873226Z",
     "shell.execute_reply": "2023-01-21T08:36:36.871836Z"
    },
    "papermill": {
     "duration": 0.652898,
     "end_time": "2023-01-21T08:36:36.875902",
     "exception": false,
     "start_time": "2023-01-21T08:36:36.223004",
     "status": "completed"
    },
    "tags": []
   },
   "outputs": [
    {
     "data": {
      "text/plain": [
       "<seaborn.axisgrid.FacetGrid at 0x7f56e18d2e10>"
      ]
     },
     "execution_count": 11,
     "metadata": {},
     "output_type": "execute_result"
    },
    {
     "data": {
      "image/png": "[encoded data removed]",
      "text/plain": [
       "<Figure size 474.375x432 with 1 Axes>"
      ]
     },
     "metadata": {
      "needs_background": "light"
     },
     "output_type": "display_data"
    }
   ],
   "source": [
    "sns.catplot(\n",
    "    data=data, kind=\"bar\",\n",
    "    x=\"cp\", y=\"chol\", hue=\"sex\",palette=\"dark\", alpha=.6, height=6, ci=False\n",
    ").set(title='cholestoral level for different types of chest pain for both genders')"
   ]
  },
  {
   "cell_type": "code",
   "execution_count": 12,
   "id": "10d9c4d2",
   "metadata": {
    "execution": {
     "iopub.execute_input": "2023-01-21T08:36:36.900421Z",
     "iopub.status.busy": "2023-01-21T08:36:36.899509Z",
     "iopub.status.idle": "2023-01-21T08:36:38.249312Z",
     "shell.execute_reply": "2023-01-21T08:36:38.248451Z"
    },
    "papermill": {
     "duration": 1.365508,
     "end_time": "2023-01-21T08:36:38.251773",
     "exception": false,
     "start_time": "2023-01-21T08:36:36.886265",
     "status": "completed"
    },
    "tags": []
   },
   "outputs": [
    {
     "data": {
      "text/plain": [
       "[Text(0.5, 1.0, 'maximum heart rate achieved for resting blood pressure level')]"
      ]
     },
     "execution_count": 12,
     "metadata": {},
     "output_type": "execute_result"
    },
    {
     "data": {
      "image/png": "[encoded data removed]",
      "text/plain": [
       "<Figure size 432x288 with 1 Axes>"
      ]
     },
     "metadata": {
      "needs_background": "light"
     },
     "output_type": "display_data"
    }
   ],
   "source": [
    "sns.lineplot(data=data, x=\"trtbps\", y=\"thalachh\", hue=\"output\",\n",
    "             ci=False).set(title='maximum heart rate achieved for resting blood pressure level')"
   ]
  },
  {
   "cell_type": "code",
   "execution_count": 13,
   "id": "e71c043a",
   "metadata": {
    "execution": {
     "iopub.execute_input": "2023-01-21T08:36:38.276050Z",
     "iopub.status.busy": "2023-01-21T08:36:38.275221Z",
     "iopub.status.idle": "2023-01-21T08:36:38.573846Z",
     "shell.execute_reply": "2023-01-21T08:36:38.572605Z"
    },
    "papermill": {
     "duration": 0.313102,
     "end_time": "2023-01-21T08:36:38.576114",
     "exception": false,
     "start_time": "2023-01-21T08:36:38.263012",
     "status": "completed"
    },
    "tags": []
   },
   "outputs": [
    {
     "data": {
      "text/plain": [
       "<seaborn.axisgrid.FacetGrid at 0x7f56dee17210>"
      ]
     },
     "execution_count": 13,
     "metadata": {},
     "output_type": "execute_result"
    },
    {
     "data": {
      "image/png": "[encoded data removed]",
      "text/plain": [
       "<Figure size 360x360 with 1 Axes>"
      ]
     },
     "metadata": {
      "needs_background": "light"
     },
     "output_type": "display_data"
    }
   ],
   "source": [
    "sns.catplot(data=data, x=\"sex\",\n",
    "            y=\"caa\").set(title='number of major vessels for men  and women')"
   ]
  },
  {
   "cell_type": "code",
   "execution_count": 14,
   "id": "9501aa8a",
   "metadata": {
    "execution": {
     "iopub.execute_input": "2023-01-21T08:36:38.601347Z",
     "iopub.status.busy": "2023-01-21T08:36:38.600675Z",
     "iopub.status.idle": "2023-01-21T08:36:39.019394Z",
     "shell.execute_reply": "2023-01-21T08:36:39.018041Z"
    },
    "papermill": {
     "duration": 0.434182,
     "end_time": "2023-01-21T08:36:39.022199",
     "exception": false,
     "start_time": "2023-01-21T08:36:38.588017",
     "status": "completed"
    },
    "tags": []
   },
   "outputs": [
    {
     "data": {
      "image/png": "[encoded data removed]",
      "text/plain": [
       "<Figure size 864x360 with 4 Axes>"
      ]
     },
     "metadata": {
      "needs_background": "light"
     },
     "output_type": "display_data"
    }
   ],
   "source": [
    "#outliers in numerical features\n",
    "import matplotlib.pyplot as plt\n",
    "fig, (ax1,ax2,ax3,ax4) = plt.subplots(nrows=1, ncols=4, sharey=True, figsize=(12,5))\n",
    "data.boxplot('age', ax=ax1)\n",
    "data.boxplot('trtbps', ax=ax2)\n",
    "data.boxplot('chol', ax=ax3)\n",
    "data.boxplot('thalachh', ax=ax4)\n",
    "plt.show()"
   ]
  },
  {
   "cell_type": "markdown",
   "id": "2739bf61",
   "metadata": {
    "papermill": {
     "duration": 0.011142,
     "end_time": "2023-01-21T08:36:39.044834",
     "exception": false,
     "start_time": "2023-01-21T08:36:39.033692",
     "status": "completed"
    },
    "tags": []
   },
   "source": [
    "# Feature extraction"
   ]
  },
  {
   "cell_type": "code",
   "execution_count": 15,
   "id": "21c060ef",
   "metadata": {
    "execution": {
     "iopub.execute_input": "2023-01-21T08:36:39.070008Z",
     "iopub.status.busy": "2023-01-21T08:36:39.069577Z",
     "iopub.status.idle": "2023-01-21T08:36:39.088939Z",
     "shell.execute_reply": "2023-01-21T08:36:39.087733Z"
    },
    "papermill": {
     "duration": 0.035519,
     "end_time": "2023-01-21T08:36:39.091923",
     "exception": false,
     "start_time": "2023-01-21T08:36:39.056404",
     "status": "completed"
    },
    "tags": []
   },
   "outputs": [],
   "source": [
    "#removing outliers\n",
    "def outliers(df,ft):\n",
    "    Q1 = df[ft].quantile(0.25)\n",
    "    Q3 = df[ft].quantile(0.75)\n",
    "    IQR = Q3 - Q1\n",
    "    lowerBound = Q1 - 1.5 * IQR\n",
    "    upperBound = Q3 + 1.5 * IQR\n",
    "    lst = df.index[(df[ft] < lowerBound)|(df[ft] > upperBound)]\n",
    "    return lst\n",
    "lst =[]\n",
    "for ft in ['age']:\n",
    "    lst.extend(outliers(data,ft))\n",
    "for ft in ['trtbps']:\n",
    "    lst.extend(outliers(data,ft))\n",
    "for ft in ['chol']:\n",
    "    lst.extend(outliers(data,ft))\n",
    "for ft in ['thalachh']:\n",
    "    lst.extend(outliers(data,ft))\n",
    "#dropping outliers \n",
    "data = data.drop(lst)\n",
    "    "
   ]
  },
  {
   "cell_type": "code",
   "execution_count": 16,
   "id": "36757a44",
   "metadata": {
    "execution": {
     "iopub.execute_input": "2023-01-21T08:36:39.116470Z",
     "iopub.status.busy": "2023-01-21T08:36:39.116070Z",
     "iopub.status.idle": "2023-01-21T08:36:39.123349Z",
     "shell.execute_reply": "2023-01-21T08:36:39.121991Z"
    },
    "papermill": {
     "duration": 0.022552,
     "end_time": "2023-01-21T08:36:39.125970",
     "exception": false,
     "start_time": "2023-01-21T08:36:39.103418",
     "status": "completed"
    },
    "tags": []
   },
   "outputs": [],
   "source": [
    "x=data.drop(columns=\"output\", axis=1)\n",
    "y=data['output']"
   ]
  },
  {
   "cell_type": "code",
   "execution_count": 17,
   "id": "01047994",
   "metadata": {
    "execution": {
     "iopub.execute_input": "2023-01-21T08:36:39.152304Z",
     "iopub.status.busy": "2023-01-21T08:36:39.151208Z",
     "iopub.status.idle": "2023-01-21T08:36:39.159671Z",
     "shell.execute_reply": "2023-01-21T08:36:39.158746Z"
    },
    "papermill": {
     "duration": 0.024515,
     "end_time": "2023-01-21T08:36:39.162611",
     "exception": false,
     "start_time": "2023-01-21T08:36:39.138096",
     "status": "completed"
    },
    "tags": []
   },
   "outputs": [],
   "source": [
    "x_train, x_test, y_train, y_test = train_test_split(x,y, test_size=0.2, stratify=y,\n",
    "                                                   random_state=2)"
   ]
  },
  {
   "cell_type": "code",
   "execution_count": 18,
   "id": "824a6f04",
   "metadata": {
    "execution": {
     "iopub.execute_input": "2023-01-21T08:36:39.189944Z",
     "iopub.status.busy": "2023-01-21T08:36:39.188703Z",
     "iopub.status.idle": "2023-01-21T08:36:39.195964Z",
     "shell.execute_reply": "2023-01-21T08:36:39.194544Z"
    },
    "papermill": {
     "duration": 0.023547,
     "end_time": "2023-01-21T08:36:39.198475",
     "exception": false,
     "start_time": "2023-01-21T08:36:39.174928",
     "status": "completed"
    },
    "tags": []
   },
   "outputs": [
    {
     "name": "stdout",
     "output_type": "stream",
     "text": [
      "(288, 13) (230, 13) (58, 13)\n"
     ]
    }
   ],
   "source": [
    "print(x.shape,x_train.shape,x_test.shape)"
   ]
  },
  {
   "cell_type": "markdown",
   "id": "6ac54b96",
   "metadata": {
    "papermill": {
     "duration": 0.011173,
     "end_time": "2023-01-21T08:36:39.221453",
     "exception": false,
     "start_time": "2023-01-21T08:36:39.210280",
     "status": "completed"
    },
    "tags": []
   },
   "source": [
    "# Model \n",
    "using SVM and LogisticRegression"
   ]
  },
  {
   "cell_type": "code",
   "execution_count": 19,
   "id": "2aa05bc0",
   "metadata": {
    "execution": {
     "iopub.execute_input": "2023-01-21T08:36:39.246785Z",
     "iopub.status.busy": "2023-01-21T08:36:39.245950Z",
     "iopub.status.idle": "2023-01-21T08:36:39.268692Z",
     "shell.execute_reply": "2023-01-21T08:36:39.267464Z"
    },
    "papermill": {
     "duration": 0.038526,
     "end_time": "2023-01-21T08:36:39.271265",
     "exception": false,
     "start_time": "2023-01-21T08:36:39.232739",
     "status": "completed"
    },
    "tags": []
   },
   "outputs": [
    {
     "data": {
      "text/plain": [
       "Pipeline(steps=[('scaler', StandardScaler()),\n",
       "                ('linear_svc', LinearSVC(C=1, loss='hinge'))])"
      ]
     },
     "execution_count": 19,
     "metadata": {},
     "output_type": "execute_result"
    }
   ],
   "source": [
    "from sklearn.pipeline import Pipeline \n",
    "from sklearn.preprocessing import StandardScaler\n",
    "from sklearn.svm import LinearSVC\n",
    "svm_clf = Pipeline([\n",
    "    ('scaler', StandardScaler()),\n",
    "    ('linear_svc', LinearSVC(C=1,loss='hinge'))   \n",
    "])\n",
    "svm_clf.fit(x_train, y_train)"
   ]
  },
  {
   "cell_type": "code",
   "execution_count": 20,
   "id": "626deb91",
   "metadata": {
    "execution": {
     "iopub.execute_input": "2023-01-21T08:36:39.296090Z",
     "iopub.status.busy": "2023-01-21T08:36:39.295690Z",
     "iopub.status.idle": "2023-01-21T08:36:39.344792Z",
     "shell.execute_reply": "2023-01-21T08:36:39.343526Z"
    },
    "papermill": {
     "duration": 0.064889,
     "end_time": "2023-01-21T08:36:39.347553",
     "exception": false,
     "start_time": "2023-01-21T08:36:39.282664",
     "status": "completed"
    },
    "tags": []
   },
   "outputs": [
    {
     "name": "stderr",
     "output_type": "stream",
     "text": [
      "/opt/conda/lib/python3.7/site-packages/sklearn/linear_model/_logistic.py:818: ConvergenceWarning: lbfgs failed to converge (status=1):\n",
      "STOP: TOTAL NO. of ITERATIONS REACHED LIMIT.\n",
      "\n",
      "Increase the number of iterations (max_iter) or scale the data as shown in:\n",
      "    https://scikit-learn.org/stable/modules/preprocessing.html\n",
      "Please also refer to the documentation for alternative solver options:\n",
      "    https://scikit-learn.org/stable/modules/linear_model.html#logistic-regression\n",
      "  extra_warning_msg=_LOGISTIC_SOLVER_CONVERGENCE_MSG,\n"
     ]
    },
    {
     "data": {
      "text/plain": [
       "LogisticRegression()"
      ]
     },
     "execution_count": 20,
     "metadata": {},
     "output_type": "execute_result"
    }
   ],
   "source": [
    "lgr_clf = LogisticRegression()\n",
    "lgr_clf.fit(x_train, y_train)"
   ]
  },
  {
   "cell_type": "markdown",
   "id": "846f9059",
   "metadata": {
    "papermill": {
     "duration": 0.010904,
     "end_time": "2023-01-21T08:36:39.370635",
     "exception": false,
     "start_time": "2023-01-21T08:36:39.359731",
     "status": "completed"
    },
    "tags": []
   },
   "source": [
    "# Model Evaluation"
   ]
  },
  {
   "cell_type": "markdown",
   "id": "63026e9e",
   "metadata": {
    "papermill": {
     "duration": 0.011711,
     "end_time": "2023-01-21T08:36:39.393658",
     "exception": false,
     "start_time": "2023-01-21T08:36:39.381947",
     "status": "completed"
    },
    "tags": []
   },
   "source": [
    "Support vector machine classifier "
   ]
  },
  {
   "cell_type": "code",
   "execution_count": 21,
   "id": "52f8c3a3",
   "metadata": {
    "execution": {
     "iopub.execute_input": "2023-01-21T08:36:39.422011Z",
     "iopub.status.busy": "2023-01-21T08:36:39.420431Z",
     "iopub.status.idle": "2023-01-21T08:36:39.431115Z",
     "shell.execute_reply": "2023-01-21T08:36:39.429648Z"
    },
    "papermill": {
     "duration": 0.027802,
     "end_time": "2023-01-21T08:36:39.433616",
     "exception": false,
     "start_time": "2023-01-21T08:36:39.405814",
     "status": "completed"
    },
    "tags": []
   },
   "outputs": [
    {
     "name": "stdout",
     "output_type": "stream",
     "text": [
      "0.8652173913043478\n"
     ]
    }
   ],
   "source": [
    "svm_train_pred= svm_clf.predict(x_train)\n",
    "svm_train_accuracy = accuracy_score(svm_train_pred, y_train)\n",
    "print(svm_train_accuracy)"
   ]
  },
  {
   "cell_type": "code",
   "execution_count": 22,
   "id": "dfd0e166",
   "metadata": {
    "execution": {
     "iopub.execute_input": "2023-01-21T08:36:39.459874Z",
     "iopub.status.busy": "2023-01-21T08:36:39.458983Z",
     "iopub.status.idle": "2023-01-21T08:36:39.468318Z",
     "shell.execute_reply": "2023-01-21T08:36:39.467243Z"
    },
    "papermill": {
     "duration": 0.024815,
     "end_time": "2023-01-21T08:36:39.470556",
     "exception": false,
     "start_time": "2023-01-21T08:36:39.445741",
     "status": "completed"
    },
    "tags": []
   },
   "outputs": [
    {
     "name": "stdout",
     "output_type": "stream",
     "text": [
      "0.8103448275862069\n"
     ]
    }
   ],
   "source": [
    "svm_test_pred= svm_clf.predict(x_test)\n",
    "svm_test_accuracy = accuracy_score(svm_test_pred, y_test)\n",
    "print(svm_test_accuracy)"
   ]
  },
  {
   "cell_type": "markdown",
   "id": "d95511fd",
   "metadata": {
    "papermill": {
     "duration": 0.011153,
     "end_time": "2023-01-21T08:36:39.494210",
     "exception": false,
     "start_time": "2023-01-21T08:36:39.483057",
     "status": "completed"
    },
    "tags": []
   },
   "source": [
    "Logistic regression classifier"
   ]
  },
  {
   "cell_type": "code",
   "execution_count": 23,
   "id": "44e739c8",
   "metadata": {
    "execution": {
     "iopub.execute_input": "2023-01-21T08:36:39.520812Z",
     "iopub.status.busy": "2023-01-21T08:36:39.519291Z",
     "iopub.status.idle": "2023-01-21T08:36:39.529968Z",
     "shell.execute_reply": "2023-01-21T08:36:39.528435Z"
    },
    "papermill": {
     "duration": 0.026938,
     "end_time": "2023-01-21T08:36:39.532997",
     "exception": false,
     "start_time": "2023-01-21T08:36:39.506059",
     "status": "completed"
    },
    "tags": []
   },
   "outputs": [
    {
     "name": "stdout",
     "output_type": "stream",
     "text": [
      "0.8695652173913043\n"
     ]
    }
   ],
   "source": [
    "lgr_train_pred= lgr_clf.predict(x_train)\n",
    "lgr_train_accuracy = accuracy_score(lgr_train_pred, y_train)\n",
    "print(lgr_train_accuracy)"
   ]
  },
  {
   "cell_type": "code",
   "execution_count": 24,
   "id": "f86ecdc3",
   "metadata": {
    "execution": {
     "iopub.execute_input": "2023-01-21T08:36:39.559232Z",
     "iopub.status.busy": "2023-01-21T08:36:39.558402Z",
     "iopub.status.idle": "2023-01-21T08:36:39.568635Z",
     "shell.execute_reply": "2023-01-21T08:36:39.567048Z"
    },
    "papermill": {
     "duration": 0.026395,
     "end_time": "2023-01-21T08:36:39.571133",
     "exception": false,
     "start_time": "2023-01-21T08:36:39.544738",
     "status": "completed"
    },
    "tags": []
   },
   "outputs": [
    {
     "name": "stdout",
     "output_type": "stream",
     "text": [
      "0.8103448275862069\n"
     ]
    }
   ],
   "source": [
    "lgr_test_pred = lgr_clf.predict(x_test)\n",
    "lgr_test_accuracy = accuracy_score(lgr_test_pred, y_test)\n",
    "print(lgr_test_accuracy)"
   ]
  },
  {
   "cell_type": "markdown",
   "id": "0e0f14fa",
   "metadata": {
    "papermill": {
     "duration": 0.011183,
     "end_time": "2023-01-21T08:36:39.594293",
     "exception": false,
     "start_time": "2023-01-21T08:36:39.583110",
     "status": "completed"
    },
    "tags": []
   },
   "source": [
    "we can see that LogisticRegression model is doing little bit better in the train set accuracy score"
   ]
  },
  {
   "cell_type": "markdown",
   "id": "523b3c9b",
   "metadata": {
    "papermill": {
     "duration": 0.011217,
     "end_time": "2023-01-21T08:36:39.617372",
     "exception": false,
     "start_time": "2023-01-21T08:36:39.606155",
     "status": "completed"
    },
    "tags": []
   },
   "source": [
    "# Predict"
   ]
  },
  {
   "cell_type": "code",
   "execution_count": 25,
   "id": "2b87b02d",
   "metadata": {
    "execution": {
     "iopub.execute_input": "2023-01-21T08:36:39.642701Z",
     "iopub.status.busy": "2023-01-21T08:36:39.641995Z",
     "iopub.status.idle": "2023-01-21T08:36:39.651809Z",
     "shell.execute_reply": "2023-01-21T08:36:39.650865Z"
    },
    "papermill": {
     "duration": 0.025693,
     "end_time": "2023-01-21T08:36:39.654676",
     "exception": false,
     "start_time": "2023-01-21T08:36:39.628983",
     "status": "completed"
    },
    "tags": []
   },
   "outputs": [
    {
     "name": "stdout",
     "output_type": "stream",
     "text": [
      "[1]\n"
     ]
    },
    {
     "name": "stderr",
     "output_type": "stream",
     "text": [
      "/opt/conda/lib/python3.7/site-packages/sklearn/base.py:451: UserWarning: X does not have valid feature names, but LogisticRegression was fitted with feature names\n",
      "  \"X does not have valid feature names, but\"\n"
     ]
    }
   ],
   "source": [
    "prediction_lgr = lgr_clf.predict([[63,1,3,145,233,1,0,150,0,2.3,0,0,1]])\n",
    "print(prediction_lgr)"
   ]
  },
  {
   "cell_type": "code",
   "execution_count": null,
   "id": "8d2f7ca1",
   "metadata": {
    "papermill": {
     "duration": 0.013681,
     "end_time": "2023-01-21T08:36:39.681744",
     "exception": false,
     "start_time": "2023-01-21T08:36:39.668063",
     "status": "completed"
    },
    "tags": []
   },
   "outputs": [],
   "source": []
  }
 ],
 "metadata": {
  "kernelspec": {
   "display_name": "Python 3",
   "language": "python",
   "name": "python3"
  },
  "language_info": {
   "codemirror_mode": {
    "name": "ipython",
    "version": 3
   },
   "file_extension": ".py",
   "mimetype": "text/x-python",
   "name": "python",
   "nbconvert_exporter": "python",
   "pygments_lexer": "ipython3",
   "version": "3.7.12"
  },
  "papermill": {
   "default_parameters": {},
   "duration": 16.283404,
   "end_time": "2023-01-21T08:36:40.517064",
   "environment_variables": {},
   "exception": null,
   "input_path": "__notebook__.ipynb",
   "output_path": "__notebook__.ipynb",
   "parameters": {},
   "start_time": "2023-01-21T08:36:24.233660",
   "version": "2.3.4"
  }
 },
 "nbformat": 4,
 "nbformat_minor": 5
}
